{
 "cells": [
  {
   "cell_type": "markdown",
   "id": "b2c9789e",
   "metadata": {},
   "source": [
    "# PW SKILLS"
   ]
  },
  {
   "cell_type": "markdown",
   "id": "df43c1af",
   "metadata": {},
   "source": [
    "## Assignment Questions "
   ]
  },
  {
   "cell_type": "markdown",
   "id": "3a9b224e",
   "metadata": {},
   "source": [
    "### Q1. Explain the assumptions required to use ANOVA and provide examples of violations that could impact the validity of the results.\n",
    "### Answer : "
   ]
  },
  {
   "cell_type": "markdown",
   "id": "86e748f4",
   "metadata": {},
   "source": [
    "Analysis of Variance (ANOVA) is a statistical method used to compare means across multiple groups. To apply ANOVA and ensure the validity of its results, certain assumptions must be met. These assumptions are:\n",
    "\n",
    "Independence: Observations within and between groups should be independent. This means that the values in one group should not be related to or affect the values in another group.\n",
    "\n",
    "Normality: The data within each group should follow a normal distribution. This assumption is more critical with smaller sample sizes, as ANOVA is known to be robust to violations of normality with larger sample sizes.\n",
    "\n",
    "Homogeneity of Variance (Homoscedasticity): The variances of the groups being compared should be approximately equal. In other words, the spread of the data points should be similar across all groups.\n",
    "\n",
    "Interval or Ratio Scale: The dependent variable (the variable being measured) should be measured on an interval or ratio scale. This implies that the distances between values are consistent and meaningful.\n",
    "\n",
    "Violations of these assumptions can impact the validity of ANOVA results. Examples of violations and their potential impact include:\n",
    "\n",
    "Non-independence: If observations are not independent, it can lead to increased Type I errors. For example, if data points within a group are related, such as repeated measures on the same subjects, it violates the independence assumption.\n",
    "\n",
    "Non-normality: If the data is not normally distributed, especially with small sample sizes, it can lead to inaccurate p-values. Transforming the data or using non-parametric alternatives may be necessary if normality is violated.\n",
    "\n",
    "Heterogeneity of Variance: Unequal variances across groups can lead to imprecise estimates of group means. This violation may result in an inflated Type I error rate. Transformations or robust statistical methods can be employed to address this issue.\n",
    "\n",
    "Ordinal Data or Non-Interval Data: ANOVA assumes that the dependent variable is measured on an interval or ratio scale. If the data is ordinal or not on an interval scale, using ANOVA may not be appropriate. In such cases, non-parametric tests like the Kruskal-Wallis test may be more suitable.\n",
    "\n",
    "It's essential to assess these assumptions before interpreting ANOVA results and consider alternative methods or transformations if the assumptions are violated. Additionally, graphical methods like Q-Q plots and residual plots can help in diagnosing violations of normality and homogeneity of variance.\n",
    "\n",
    "\n",
    "\n",
    "\n"
   ]
  },
  {
   "cell_type": "markdown",
   "id": "0c216503",
   "metadata": {},
   "source": [
    "### Q2. What are the three types of ANOVA, and in what situations would each be used?\n",
    "### Answer : "
   ]
  },
  {
   "cell_type": "markdown",
   "id": "077b0269",
   "metadata": {},
   "source": [
    "There are three main types of Analysis of Variance (ANOVA): One-Way ANOVA, Two-Way ANOVA, and Repeated Measures ANOVA. Each type is used in specific situations to analyze variations in data with different experimental designs:\n",
    "\n",
    "One-Way ANOVA:\n",
    "\n",
    "Situation: Used when comparing the means of three or more independent groups.\n",
    "Example: An experiment with different treatment groups (e.g., three different types of fertilizer) to assess if there are significant differences in the mean outcome (e.g., plant growth).\n",
    "Two-Way ANOVA:\n",
    "\n",
    "Situation: Used when there are two independent categorical variables (factors) influencing the dependent variable.\n",
    "Example: An experiment studying the effects of two factors simultaneously, such as the type of diet and the intensity of exercise, on weight loss. Two-Way ANOVA can analyze the main effects of each factor and their interaction.\n",
    "Repeated Measures ANOVA:\n",
    "\n",
    "Situation: Used when the same subjects are used for each treatment or measurement, leading to correlated or repeated measurements.\n",
    "Example: A study measuring the blood pressure of individuals before and after different drug treatments. Repeated Measures ANOVA allows for the analysis of changes within subjects over time or under different conditions.\n",
    "In summary:\n",
    "\n",
    "One-Way ANOVA is for comparing means across three or more independent groups.\n",
    "Two-Way ANOVA is for assessing the influence of two independent variables and their interaction on the dependent variable.\n",
    "Repeated Measures ANOVA is for analyzing variations in data where the same subjects are measured or treated multiple times.\n",
    "It's important to choose the appropriate type of ANOVA based on the experimental design and nature of the data. Misapplication of ANOVA types may lead to incorrect conclusions and interpretations. Additionally, post-hoc tests or pairwise comparisons are often performed after ANOVA to identify specific group differences when the overall test indicates statistical significance.\n",
    "\n",
    "\n",
    "\n",
    "\n"
   ]
  },
  {
   "cell_type": "markdown",
   "id": "4cfce285",
   "metadata": {},
   "source": [
    "### Q3. What is the partitioning of variance in ANOVA, and why is it important to understand this concept?\n",
    "### Answer : "
   ]
  },
  {
   "cell_type": "markdown",
   "id": "f489cc84",
   "metadata": {},
   "source": [
    "The partitioning of variance in ANOVA refers to the division of the total variance in the data into different components associated with various sources. Understanding this concept is crucial for interpreting ANOVA results and gaining insights into the factors contributing to variability in the dependent variable. The partitioning is typically represented in a way that decomposes the total variability into several components:\n",
    "\n",
    "Total Variance (Total Sum of Squares - SST): This represents the overall variability in the dependent variable across all groups. It is the sum of the squared differences between each individual data point and the overall mean.\n",
    "\n",
    "Between-Group Variance (Between-Group Sum of Squares - SSB): This component reflects the variability attributed to differences between the group means. It is the sum of the squared differences between each group mean and the overall mean, weighted by the number of observations in each group.\n",
    "\n",
    "Within-Group Variance (Within-Group Sum of Squares - SSW): This component accounts for the variability within each group. It is the sum of the squared differences between each individual data point and its group mean.\n",
    "\n",
    "The partitioning of variance is expressed mathematically as follows:\n",
    "\n",
    "�\n",
    "�\n",
    "�\n",
    "=\n",
    "�\n",
    "�\n",
    "�\n",
    "+\n",
    "�\n",
    "�\n",
    "�\n",
    "SST=SSB+SSW\n",
    "\n",
    "Understanding this partitioning is important for several reasons:\n",
    "\n",
    "Hypothesis Testing: ANOVA involves testing the null hypothesis that there are no significant differences between group means. The partitioning helps in assessing whether the observed differences are due to actual group effects or if they could occur by chance.\n",
    "\n",
    "Effect Size: By examining the proportion of variance attributed to between-group differences (SSB) relative to the total variance (SST), researchers can assess the practical significance or effect size of the factors being studied.\n",
    "\n",
    "Power Analysis: Understanding the partitioning of variance is crucial for power analysis, helping researchers determine the sample size needed to detect significant effects.\n",
    "\n",
    "Model Evaluation: Researchers can use the partitioning to evaluate the adequacy of their model in explaining the observed variability. This is particularly relevant in the context of Two-Way ANOVA, where interactions between factors can also contribute to the overall variance.\n",
    "\n",
    "In summary, the partitioning of variance in ANOVA provides a framework for understanding the distribution of variability in the data, aiding in hypothesis testing, effect size estimation, and the overall interpretation of the significance of group differences."
   ]
  },
  {
   "cell_type": "markdown",
   "id": "e2c1a271",
   "metadata": {},
   "source": [
    "### Q4. How would you calculate the total sum of squares (SST), explained sum of squares (SSE), and residual sum of squares (SSR) in a one-way ANOVA using Python?\n",
    "### Answer : "
   ]
  },
  {
   "cell_type": "markdown",
   "id": "3c620b79",
   "metadata": {},
   "source": [
    "To calculate the Total Sum of Squares (SST), Explained Sum of Squares (SSE), and Residual Sum of Squares (SSR) in a one-way ANOVA using Python, you can use the following steps and code:\n",
    "\n",
    "Assuming you have a dataset with a dependent variable and a categorical independent variable representing different groups, you can use the scipy.stats library for the ANOVA analysis. Here's an example:"
   ]
  },
  {
   "cell_type": "code",
   "execution_count": 1,
   "id": "f559d264",
   "metadata": {},
   "outputs": [
    {
     "name": "stdout",
     "output_type": "stream",
     "text": [
      "SST: 164.66666666666666\n",
      "SSE: [23.88888889  3.88888889 45.55555556]\n",
      "SSR: [140.77777778 160.77777778 119.11111111]\n"
     ]
    }
   ],
   "source": [
    "import pandas as pd\n",
    "from scipy.stats import f_oneway\n",
    "\n",
    "# Sample data (replace this with your own dataset)\n",
    "data = {'Group1': [10, 12, 15, 18],\n",
    "        'Group2': [8, 11, 14, 16],\n",
    "        'Group3': [5, 7, 9, 11]}\n",
    "\n",
    "df = pd.DataFrame(data)\n",
    "\n",
    "# Perform one-way ANOVA\n",
    "f_statistic, p_value = f_oneway(df['Group1'], df['Group2'], df['Group3'])\n",
    "\n",
    "# Calculate SST, SSE, and SSR\n",
    "grand_mean = df.values.mean()\n",
    "sst = ((df.values - grand_mean) ** 2).sum()\n",
    "sse = sum((group - group.mean()) ** 2 for group in df.values)\n",
    "ssr = sst - sse\n",
    "\n",
    "print(f\"SST: {sst}\")\n",
    "print(f\"SSE: {sse}\")\n",
    "print(f\"SSR: {ssr}\")\n"
   ]
  },
  {
   "cell_type": "markdown",
   "id": "aa815d5b",
   "metadata": {},
   "source": [
    "In this example:\n",
    "\n",
    "sst is the Total Sum of Squares, calculated as the sum of squared differences between each data point and the grand mean.\n",
    "sse is the Explained Sum of Squares, calculated as the sum of squared differences between each group mean and the overall mean, weighted by the number of observations in each group.\n",
    "ssr is the Residual Sum of Squares, calculated as the difference between SST and SSE.\n",
    "Note: The f_oneway function is used here to perform the ANOVA test and obtain the F-statistic and p-value. You can adapt this code to your specific dataset and structure."
   ]
  },
  {
   "cell_type": "markdown",
   "id": "3accbc95",
   "metadata": {},
   "source": [
    "### Q5. In a two-way ANOVA, how would you calculate the main effects and interaction effects using Python?\n",
    "### Answer : "
   ]
  },
  {
   "cell_type": "markdown",
   "id": "1c5fe194",
   "metadata": {},
   "source": [
    "In a two-way ANOVA, you can calculate the main effects and interaction effects using Python by analyzing the sum of squares for each factor (main effects) and their interaction. The scipy.stats library can be used for this purpose. Here's an example:"
   ]
  },
  {
   "cell_type": "code",
   "execution_count": 2,
   "id": "45ae3886",
   "metadata": {},
   "outputs": [
    {
     "name": "stdout",
     "output_type": "stream",
     "text": [
      "Main Effect A: 16.166666666666657\n",
      "Main Effect B: 8.166666666666636\n",
      "Interaction Effect: 0.16666666666666793\n"
     ]
    },
    {
     "name": "stderr",
     "output_type": "stream",
     "text": [
      "C:\\Users\\Kalyanam\\anaconda3\\lib\\site-packages\\statsmodels\\stats\\anova.py:138: RuntimeWarning: divide by zero encountered in double_scalars\n",
      "  (model.ssr / model.df_resid))\n"
     ]
    }
   ],
   "source": [
    "import pandas as pd\n",
    "from scipy.stats import f_oneway\n",
    "from statsmodels.formula.api import ols\n",
    "from statsmodels.stats.anova import anova_lm\n",
    "\n",
    "# Sample data (replace this with your own dataset)\n",
    "data = {'A': ['A1', 'A1', 'A2', 'A2', 'A3', 'A3'],\n",
    "        'B': ['B1', 'B2', 'B1', 'B2', 'B1', 'B2'],\n",
    "        'Value': [10, 12, 8, 11, 14, 16]}\n",
    "\n",
    "df = pd.DataFrame(data)\n",
    "\n",
    "# Fit the two-way ANOVA model\n",
    "formula = 'Value ~ A + B + A:B'\n",
    "model = ols(formula, df).fit()\n",
    "anova_table = anova_lm(model)\n",
    "\n",
    "# Extract main effects and interaction effects\n",
    "main_effect_A = anova_table['sum_sq']['A'] / anova_table['df']['A']\n",
    "main_effect_B = anova_table['sum_sq']['B'] / anova_table['df']['B']\n",
    "interaction_effect = anova_table['sum_sq']['A:B'] / anova_table['df']['A:B']\n",
    "\n",
    "print(f\"Main Effect A: {main_effect_A}\")\n",
    "print(f\"Main Effect B: {main_effect_B}\")\n",
    "print(f\"Interaction Effect: {interaction_effect}\")\n"
   ]
  },
  {
   "cell_type": "markdown",
   "id": "cebf09e4",
   "metadata": {},
   "source": [
    "In this example:\n",
    "\n",
    "A and B represent the two factors in the two-way ANOVA.\n",
    "Value is the dependent variable.\n",
    "The ols function from statsmodels is used to fit the ANOVA model, and the anova_lm function is used to obtain the ANOVA table. The sum of squares for each factor (A, B) and their interaction (A:B) can be extracted from the table.\n",
    "\n",
    "main_effect_A is the sum of squares for factor A divided by its degrees of freedom.\n",
    "main_effect_B is the sum of squares for factor B divided by its degrees of freedom.\n",
    "interaction_effect is the sum of squares for the interaction term (A:B) divided by its degrees of freedom.\n",
    "These values represent the main effects of factors A and B and their interaction effect, respectively. Keep in mind that the degrees of freedom and sum of squares may vary depending on the specific structure of your dataset. Adapt the code accordingly to your data.\n",
    "\n",
    "\n",
    "\n",
    "\n"
   ]
  },
  {
   "cell_type": "markdown",
   "id": "5352a15c",
   "metadata": {},
   "source": [
    "### Q6. Suppose you conducted a one-way ANOVA and obtained an F-statistic of 5.23 and a p-value of 0.02. What can you conclude about the differences between the groups, and how would you interpret these results?\n",
    "### Answer : "
   ]
  },
  {
   "cell_type": "markdown",
   "id": "f59c349b",
   "metadata": {},
   "source": [
    "In a one-way ANOVA, the F-statistic is used to test the null hypothesis that the means of the groups are equal. The p-value associated with the F-statistic indicates the probability of observing such an extreme F-statistic (or more extreme) under the assumption that the null hypothesis is true.\n",
    "\n",
    "In your case, you obtained an F-statistic of 5.23 and a p-value of 0.02. Here's how to interpret these results:\n",
    "\n",
    "Null Hypothesis (H0): The null hypothesis in ANOVA is that there are no significant differences between the means of the groups.\n",
    "\n",
    "Alternative Hypothesis (H1): The alternative hypothesis is that there are significant differences between the means of the groups.\n",
    "\n",
    "Interpretation:\n",
    "\n",
    "The low p-value (0.02) suggests that the observed F-statistic is unlikely to have occurred by chance if the null hypothesis were true.\n",
    "Typically, if the p-value is less than the chosen significance level (commonly set at 0.05), you reject the null hypothesis.\n",
    "In this case, with a p-value of 0.02, you would reject the null hypothesis.\n",
    "Conclusion:\n",
    "\n",
    "Based on the statistical analysis, there is sufficient evidence to conclude that there are significant differences between at least two of the groups.\n",
    "Practical Significance:\n",
    "\n",
    "While statistical significance indicates that there are differences, it does not provide information about the magnitude of those differences. It's essential to consider the practical significance or effect size to understand the real-world importance of the observed differences.\n",
    "Further Analysis:\n",
    "\n",
    "If you reject the null hypothesis, you may want to conduct post-hoc tests or pairwise comparisons to identify which specific groups differ from each other.\n",
    "In summary, with an F-statistic of 5.23 and a p-value of 0.02, you have evidence to reject the null hypothesis, suggesting that there are significant differences between the groups. The next steps would involve exploring the nature and magnitude of these differences through further analyses."
   ]
  },
  {
   "cell_type": "markdown",
   "id": "892410c3",
   "metadata": {},
   "source": [
    "### Q7. In a repeated measures ANOVA, how would you handle missing data, and what are the potential consequences of using different methods to handle missing data?\n",
    "### Answer : "
   ]
  },
  {
   "cell_type": "markdown",
   "id": "3f04950a",
   "metadata": {},
   "source": [
    "Handling missing data in a repeated measures ANOVA is crucial to obtaining accurate and unbiased results. There are several methods for dealing with missing data, each with its own potential consequences. Here are some common approaches and their implications:\n",
    "\n",
    "Complete Case Analysis (Listwise Deletion):\n",
    "\n",
    "Approach: Exclude cases with missing data from the analysis.\n",
    "Consequences:\n",
    "Loss of data and potentially reduced statistical power.\n",
    "If data are not missing completely at random (MCAR), it may introduce bias.\n",
    "Mean Imputation:\n",
    "\n",
    "Approach: Replace missing values with the mean of the observed values for that variable.\n",
    "Consequences:\n",
    "Does not account for individual variability.\n",
    "May underestimate standard errors, leading to artificially narrow confidence intervals.\n",
    "Can distort the true variability in the data, impacting the validity of statistical tests.\n",
    "Last Observation Carried Forward (LOCF) or Next Observation Carried Backward (NOCB):\n",
    "\n",
    "Approach: Impute missing values with the last (or next) observed value.\n",
    "Consequences:\n",
    "Assumes that missing values remain constant over time.\n",
    "May not reflect the true trajectory of change.\n",
    "Can introduce bias if there are systematic patterns in the missing data.\n",
    "Linear Interpolation or LOCF/ NCB with a Pattern:\n",
    "\n",
    "Approach: Impute missing values using linear interpolation or by considering patterns in the data.\n",
    "Consequences:\n",
    "Assumes a linear relationship or a specific pattern in the missing data.\n",
    "The accuracy of imputation depends on the appropriateness of the assumed pattern.\n",
    "Multiple Imputation:\n",
    "\n",
    "Approach: Generate multiple imputed datasets, each reflecting the uncertainty about the missing values.\n",
    "Consequences:\n",
    "More accurate and unbiased estimates compared to single imputation methods.\n",
    "Requires assumptions about the missing data mechanism.\n",
    "Computational complexity increases.\n",
    "Mixed-Effects Models (Longitudinal Data Analysis):\n",
    "\n",
    "Approach: Utilize mixed-effects models that can handle missing data using maximum likelihood estimation.\n",
    "Consequences:\n",
    "Effective for handling missing data in repeated measures designs.\n",
    "Assumes data are missing at random (MAR).\n",
    "Weighted Estimation:\n",
    "\n",
    "Approach: Assign different weights to observations based on the probability of being observed.\n",
    "Consequences:\n",
    "Addresses potential biases associated with complete case analysis.\n",
    "Requires a correctly specified model for the missing data mechanism.\n",
    "When choosing a method for handling missing data, it's essential to carefully consider the nature of the missing data and the assumptions underlying each approach. Multiple imputation and mixed-effects models are generally preferred when possible, as they provide more robust and unbiased results compared to simpler methods. However, the appropriateness of the method depends on the specific characteristics of the data and the assumptions made about the missing data mechanism."
   ]
  },
  {
   "cell_type": "markdown",
   "id": "b52c1fb2",
   "metadata": {},
   "source": [
    "### Q8. What are some common post-hoc tests used after ANOVA, and when would you use each one? Provide an example of a situation where a post-hoc test might be necessary.\n",
    "### Answer : "
   ]
  },
  {
   "cell_type": "markdown",
   "id": "16159710",
   "metadata": {},
   "source": [
    "After conducting an Analysis of Variance (ANOVA) and finding a significant difference among group means, post-hoc tests are often used to identify specific group differences. Some common post-hoc tests include:\n",
    "\n",
    "Tukey's Honestly Significant Difference (HSD):\n",
    "\n",
    "Use: Appropriate when you have three or more groups. It controls the familywise error rate and is suitable for all pairwise comparisons.\n",
    "Example: In a one-way ANOVA comparing the mean scores of three different teaching methods, Tukey's HSD can be used to identify which pairs of teaching methods have significantly different mean scores.\n",
    "Bonferroni Correction:\n",
    "\n",
    "Use: Controls the familywise error rate by adjusting the significance level for each comparison. It is suitable when you have several pairwise comparisons.\n",
    "Example: If you are comparing the mean scores of five different treatment groups, the Bonferroni correction can be applied to adjust the significance level for each pairwise comparison.\n",
    "Scheffé's Test:\n",
    "\n",
    "Use: Suitable for all pairwise comparisons, especially when sample sizes are unequal. It is more conservative than Tukey's HSD.\n",
    "Example: In a situation where you have groups with different sample sizes, Scheffé's test might be chosen for post-hoc analysis to account for the unequal variances.\n",
    "Dunnett's Test:\n",
    "\n",
    "Use: Designed for comparing each treatment group to a control group. It is used when there is a specific control group in the study.\n",
    "Example: In a drug trial, you may have a control group and several experimental groups receiving different doses of the drug. Dunnett's test can help identify which doses differ significantly from the control group.\n",
    "Holm's Procedure:\n",
    "\n",
    "Use: Controls the familywise error rate like Bonferroni but is less conservative. It is suitable when the number of comparisons is large.\n",
    "Example: If you are conducting multiple pairwise comparisons in a study, Holm's procedure may be employed to adjust the significance level for each comparison.\n",
    "Games-Howell Test:\n",
    "\n",
    "Use: Appropriate when there are unequal variances and/or sample sizes among groups. It is more robust in such situations.\n",
    "Example: In a study comparing the means of different species across various environmental conditions, Games-Howell may be used when there are variations in both variances and sample sizes.\n",
    "Example Scenario:\n",
    "Suppose you conducted a one-way ANOVA to compare the mean scores of students who received different types of tutoring methods (e.g., Method A, Method B, Method C). The ANOVA indicates a significant difference among the tutoring methods. To pinpoint which specific pairs of methods are different from each other, you might perform post-hoc tests such as Tukey's HSD or Scheffé's test. These tests help avoid Type I errors associated with conducting multiple pairwise comparisons without adjusting the significance level.\n",
    "\n",
    "\n",
    "\n",
    "\n"
   ]
  },
  {
   "cell_type": "markdown",
   "id": "ac0e5fee",
   "metadata": {},
   "source": [
    "### Q9. A researcher wants to compare the mean weight loss of three diets: A, B, and C. They collect data from 50 participants who were randomly assigned to one of the diets. Conduct a one-way ANOVA using Python to determine if there are any significant differences between the mean weight loss of the three diets. Report the F-statistic and p-value, and interpret the results.\n",
    "### Answer : "
   ]
  },
  {
   "cell_type": "markdown",
   "id": "6dd73a79",
   "metadata": {},
   "source": [
    "To conduct a one-way ANOVA in Python, you can use the scipy.stats library. Here's an example of how to perform the analysis with some random data:"
   ]
  },
  {
   "cell_type": "code",
   "execution_count": 3,
   "id": "a3322728",
   "metadata": {},
   "outputs": [
    {
     "name": "stdout",
     "output_type": "stream",
     "text": [
      "F-statistic: 6.6789903834520095\n",
      "P-value: 0.0016736573545323658\n",
      "There is a significant difference in mean weight loss between at least two diets.\n"
     ]
    }
   ],
   "source": [
    "import numpy as np\n",
    "from scipy.stats import f_oneway\n",
    "\n",
    "# Generate random weight loss data for three diets (replace this with your actual data)\n",
    "np.random.seed(42)  # Setting seed for reproducibility\n",
    "diet_A = np.random.normal(loc=2.5, scale=1.0, size=50)\n",
    "diet_B = np.random.normal(loc=3.0, scale=1.2, size=50)\n",
    "diet_C = np.random.normal(loc=2.8, scale=1.1, size=50)\n",
    "\n",
    "# Combine the data\n",
    "all_data = [diet_A, diet_B, diet_C]\n",
    "\n",
    "# Perform one-way ANOVA\n",
    "f_statistic, p_value = f_oneway(*all_data)\n",
    "\n",
    "# Report the results\n",
    "print(f\"F-statistic: {f_statistic}\")\n",
    "print(f\"P-value: {p_value}\")\n",
    "\n",
    "# Interpret the results\n",
    "if p_value < 0.05:\n",
    "    print(\"There is a significant difference in mean weight loss between at least two diets.\")\n",
    "else:\n",
    "    print(\"There is no significant difference in mean weight loss between the diets.\")\n"
   ]
  },
  {
   "cell_type": "markdown",
   "id": "f4ada4cd",
   "metadata": {},
   "source": [
    "In this example:\n",
    "\n",
    "diet_A, diet_B, and diet_C represent the weight loss data for participants in three different diets.\n",
    "The ANOVA is performed using the f_oneway function from the scipy.stats library.\n",
    "The F-statistic and p-value are printed, and the results are interpreted based on the p-value.\n",
    "Interpretation:\n",
    "\n",
    "If the p-value is less than the chosen significance level (e.g., 0.05), you would reject the null hypothesis.\n",
    "If there is a significant difference, it suggests that there are significant variations in mean weight loss among at least two of the diets.\n",
    "Please replace the example data with your actual data before running the code for a meaningful analysis. Additionally, consider assumptions like normality and homogeneity of variances before interpreting the results."
   ]
  },
  {
   "cell_type": "markdown",
   "id": "b68eb89a",
   "metadata": {},
   "source": [
    "### Q10. A company wants to know if there are any significant differences in the average time it takes to complete a task using three different software programs: Program A, Program B, and Program C. They randomly assign 30 employees to one of the programs and record the time it takes each employee to complete the task. Conduct a two-way ANOVA using Python to determine if there are any main effects or interaction effects between the software programs and employee experience level (novice vs. experienced). Report the F-statistics and p-values, and interpret the results.\n",
    "### Answer: "
   ]
  },
  {
   "cell_type": "markdown",
   "id": "512dc41e",
   "metadata": {},
   "source": [
    "To conduct a two-way ANOVA in Python, you can use the statsmodels library, which provides more extensive capabilities for ANOVA, including handling interactions. Here's an example with some random data:"
   ]
  },
  {
   "cell_type": "code",
   "execution_count": 4,
   "id": "b5075698",
   "metadata": {},
   "outputs": [
    {
     "name": "stdout",
     "output_type": "stream",
     "text": [
      "                         sum_sq    df         F    PR(>F)\n",
      "Software               1.334021   2.0  0.193670  0.824297\n",
      "Experience             5.096305   1.0  1.479736  0.227223\n",
      "Software:Experience    8.396750   2.0  1.219018  0.300694\n",
      "Residual             289.301266  84.0       NaN       NaN\n",
      "\n",
      "Interpretation:\n",
      "There is no significant main effect of Software.\n",
      "There is no significant main effect of Experience.\n",
      "There is no significant interaction effect between Software and Experience.\n"
     ]
    }
   ],
   "source": [
    "import pandas as pd\n",
    "import statsmodels.api as sm\n",
    "from statsmodels.formula.api import ols\n",
    "\n",
    "# Generate random data (replace this with your actual data)\n",
    "np.random.seed(42)\n",
    "data = {'Software': np.random.choice(['A', 'B', 'C'], size=90),\n",
    "        'Experience': np.random.choice(['Novice', 'Experienced'], size=90),\n",
    "        'Time': np.random.normal(loc=10, scale=2, size=90)}\n",
    "\n",
    "df = pd.DataFrame(data)\n",
    "\n",
    "# Fit the two-way ANOVA model\n",
    "formula = 'Time ~ Software * Experience'\n",
    "model = ols(formula, data=df).fit()\n",
    "anova_table = sm.stats.anova_lm(model, typ=2)\n",
    "\n",
    "# Report the results\n",
    "print(anova_table)\n",
    "\n",
    "# Interpret the results\n",
    "print(\"\\nInterpretation:\")\n",
    "if anova_table['PR(>F)']['Software'] < 0.05:\n",
    "    print(\"There is a significant main effect of Software on the time to complete the task.\")\n",
    "else:\n",
    "    print(\"There is no significant main effect of Software.\")\n",
    "\n",
    "if anova_table['PR(>F)']['Experience'] < 0.05:\n",
    "    print(\"There is a significant main effect of Experience on the time to complete the task.\")\n",
    "else:\n",
    "    print(\"There is no significant main effect of Experience.\")\n",
    "\n",
    "if anova_table['PR(>F)']['Software:Experience'] < 0.05:\n",
    "    print(\"There is a significant interaction effect between Software and Experience.\")\n",
    "else:\n",
    "    print(\"There is no significant interaction effect between Software and Experience.\")\n"
   ]
  },
  {
   "cell_type": "markdown",
   "id": "efb04873",
   "metadata": {},
   "source": [
    "In this example:\n",
    "\n",
    "Software, Experience, and Time represent the software program, experience level, and time taken to complete the task, respectively.\n",
    "The two-way ANOVA model is fitted using the ols function from statsmodels.\n",
    "The ANOVA table is obtained, and F-statistics and p-values are printed.\n",
    "The results are interpreted based on the significance levels.\n",
    "Interpretation:\n",
    "\n",
    "Main Effect of Software: If the p-value for the 'Software' factor is below 0.05, it suggests a significant main effect of Software on the task completion time.\n",
    "Main Effect of Experience: If the p-value for the 'Experience' factor is below 0.05, it indicates a significant main effect of Experience on the task completion time.\n",
    "Interaction Effect: If the p-value for the 'Software:Experience' interaction term is below 0.05, it suggests a significant interaction effect between Software and Experience. This implies that the effect of Software on task completion time may depend on the level of Experience.\n",
    "Replace the example data with your actual data for a meaningful analysis. Additionally, consider assumptions like normality and homogeneity of variances before interpreting the results.\n",
    "\n",
    "\n",
    "\n",
    "\n"
   ]
  },
  {
   "cell_type": "markdown",
   "id": "262d8274",
   "metadata": {},
   "source": [
    "### Q11. An educational researcher is interested in whether a new teaching method improves student test scores. They randomly assign 100 students to either the control group (traditional teaching method) or the experimental group (new teaching method) and administer a test at the end of the semester. Conduct a two-sample t-test using Python to determine if there are any significant differences in test scores between the two groups. If the results are significant, follow up with a post-hoc test to determine which group(s) differ significantly from each other.\n",
    "### Answer : "
   ]
  },
  {
   "cell_type": "markdown",
   "id": "85a6faa6",
   "metadata": {},
   "source": [
    "To conduct a two-sample t-test in Python and perform a post-hoc test for group comparisons, you can use the scipy.stats library for the t-test and the statsmodels library for the post-hoc test (e.g., Tukey's HSD). Here's an example:"
   ]
  },
  {
   "cell_type": "code",
   "execution_count": 5,
   "id": "a8bacbf8",
   "metadata": {},
   "outputs": [
    {
     "name": "stdout",
     "output_type": "stream",
     "text": [
      "Two-sample t-test results:\n",
      "T-statistic: -4.108723928204809\n",
      "P-value: 8.261945608702611e-05\n",
      "\n",
      "Post-hoc (Tukey's HSD) results:\n",
      "   Multiple Comparison of Means - Tukey HSD, FWER=0.05    \n",
      "==========================================================\n",
      " group1    group2    meandiff p-adj  lower   upper  reject\n",
      "----------------------------------------------------------\n",
      "Control Experimental   7.4325 0.0001 3.8427 11.0224   True\n",
      "----------------------------------------------------------\n",
      "\n",
      "Interpretation:\n",
      "There is a significant difference in test scores between the control and experimental groups.\n",
      "Post-hoc analysis is needed to identify specific group differences.\n"
     ]
    }
   ],
   "source": [
    "import numpy as np\n",
    "import pandas as pd\n",
    "from scipy.stats import ttest_ind\n",
    "from statsmodels.stats.multicomp import pairwise_tukeyhsd\n",
    "\n",
    "# Generate random test scores data for control and experimental groups (replace this with your actual data)\n",
    "np.random.seed(42)\n",
    "control_group = np.random.normal(loc=70, scale=10, size=50)\n",
    "experimental_group = np.random.normal(loc=75, scale=10, size=50)\n",
    "\n",
    "# Perform two-sample t-test\n",
    "t_statistic, p_value = ttest_ind(control_group, experimental_group)\n",
    "\n",
    "# Report the results\n",
    "print(f\"Two-sample t-test results:\")\n",
    "print(f\"T-statistic: {t_statistic}\")\n",
    "print(f\"P-value: {p_value}\")\n",
    "\n",
    "# Perform post-hoc test (Tukey's HSD)\n",
    "data = pd.DataFrame({'Scores': np.concatenate([control_group, experimental_group]),\n",
    "                     'Group': ['Control'] * 50 + ['Experimental'] * 50})\n",
    "\n",
    "posthoc_results = pairwise_tukeyhsd(data['Scores'], data['Group'])\n",
    "\n",
    "# Report post-hoc results\n",
    "print(\"\\nPost-hoc (Tukey's HSD) results:\")\n",
    "print(posthoc_results)\n",
    "\n",
    "# Interpret the results\n",
    "print(\"\\nInterpretation:\")\n",
    "if p_value < 0.05:\n",
    "    print(\"There is a significant difference in test scores between the control and experimental groups.\")\n",
    "    print(\"Post-hoc analysis is needed to identify specific group differences.\")\n",
    "else:\n",
    "    print(\"There is no significant difference in test scores between the groups.\")\n"
   ]
  },
  {
   "cell_type": "markdown",
   "id": "d62fcf08",
   "metadata": {},
   "source": [
    "In this example:\n",
    "\n",
    "control_group and experimental_group represent the test scores for the control and experimental groups, respectively.\n",
    "The two-sample t-test is performed using the ttest_ind function from scipy.stats.\n",
    "Post-hoc analysis (Tukey's HSD) is conducted using the pairwise_tukeyhsd function from statsmodels.\n",
    "Interpretation:\n",
    "\n",
    "If the p-value from the two-sample t-test is below 0.05, it indicates a significant difference in test scores between the control and experimental groups.\n",
    "The post-hoc analysis (Tukey's HSD) helps identify specific group differences.\n",
    "Replace the example data with your actual data for a meaningful analysis. Additionally, consider assumptions like normality and homogeneity of variances before interpreting the results.\n",
    "\n",
    "\n",
    "\n",
    "\n"
   ]
  },
  {
   "cell_type": "markdown",
   "id": "d1559120",
   "metadata": {},
   "source": [
    "### Q12. A researcher wants to know if there are any significant differences in the average daily sales of three retail stores: Store A, Store B, and Store C. They randomly select 30 days and record the sales for each store on those days. Conduct a repeated measures ANOVA using Python to determine if there are any significant differences in sales between the three stores. If the results are significant, follow up with a post-hoc test to determine which store(s) differ significantly from each other.\n",
    "### Answer : "
   ]
  },
  {
   "cell_type": "markdown",
   "id": "3f20eff6",
   "metadata": {},
   "source": [
    "For a repeated measures ANOVA in Python, you can use the statsmodels library, which provides functions for ANOVA and post-hoc tests. Here's an example:"
   ]
  },
  {
   "cell_type": "code",
   "execution_count": 9,
   "id": "864ecb54",
   "metadata": {},
   "outputs": [
    {
     "name": "stdout",
     "output_type": "stream",
     "text": [
      "One-way ANOVA results:\n",
      "F-statistic: 1.5520108564481612\n",
      "P-value: 0.21762853741240518\n",
      "\n",
      "Post-hoc (Tukey's HSD) results:\n",
      " Multiple Comparison of Means - Tukey HSD, FWER=0.05 \n",
      "=====================================================\n",
      "group1 group2 meandiff p-adj   lower    upper  reject\n",
      "-----------------------------------------------------\n",
      "     A      B   7.4361 0.2904  -4.2923 19.1645  False\n",
      "     A      C   8.2438 0.2516  -4.0511 20.5386  False\n",
      "     B      C   0.8077  0.984 -10.4333 12.0486  False\n",
      "-----------------------------------------------------\n",
      "\n",
      "Interpretation:\n",
      "There is no significant difference in daily sales between the stores.\n"
     ]
    }
   ],
   "source": [
    "import pandas as pd\n",
    "from scipy.stats import f_oneway\n",
    "from statsmodels.stats.multicomp import pairwise_tukeyhsd\n",
    "\n",
    "# Generate random sales data for three stores (replace this with your actual data)\n",
    "np.random.seed(42)\n",
    "data = {'Store': np.random.choice(['A', 'B', 'C'], size=90),\n",
    "        'Sales': np.random.normal(loc=100, scale=20, size=90)}\n",
    "\n",
    "df = pd.DataFrame(data)\n",
    "\n",
    "# Perform one-way ANOVA\n",
    "f_statistic, p_value = f_oneway(df['Sales'][df['Store'] == 'A'],\n",
    "                                 df['Sales'][df['Store'] == 'B'],\n",
    "                                 df['Sales'][df['Store'] == 'C'])\n",
    "\n",
    "# Report the results\n",
    "print(f\"One-way ANOVA results:\")\n",
    "print(f\"F-statistic: {f_statistic}\")\n",
    "print(f\"P-value: {p_value}\")\n",
    "\n",
    "# Perform post-hoc test (Tukey's HSD)\n",
    "posthoc_results = pairwise_tukeyhsd(df['Sales'], df['Store'])\n",
    "\n",
    "# Report post-hoc results\n",
    "print(\"\\nPost-hoc (Tukey's HSD) results:\")\n",
    "print(posthoc_results)\n",
    "\n",
    "# Interpret the results\n",
    "print(\"\\nInterpretation:\")\n",
    "if p_value < 0.05:\n",
    "    print(\"There is a significant difference in daily sales between the three stores.\")\n",
    "    print(\"Post-hoc analysis is needed to identify specific store differences.\")\n",
    "else:\n",
    "    print(\"There is no significant difference in daily sales between the stores.\")\n"
   ]
  },
  {
   "cell_type": "code",
   "execution_count": null,
   "id": "ec7a5cd1",
   "metadata": {},
   "outputs": [],
   "source": []
  }
 ],
 "metadata": {
  "kernelspec": {
   "display_name": "Python 3 (ipykernel)",
   "language": "python",
   "name": "python3"
  },
  "language_info": {
   "codemirror_mode": {
    "name": "ipython",
    "version": 3
   },
   "file_extension": ".py",
   "mimetype": "text/x-python",
   "name": "python",
   "nbconvert_exporter": "python",
   "pygments_lexer": "ipython3",
   "version": "3.9.13"
  }
 },
 "nbformat": 4,
 "nbformat_minor": 5
}
